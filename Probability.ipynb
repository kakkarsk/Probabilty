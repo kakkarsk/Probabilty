{
 "cells": [
  {
   "cell_type": "markdown",
   "metadata": {},
   "source": [
    "#flipping a balanced coin four times : HTTH, HHHH,TTHH\n",
    "Answer will be same: .5*.5*.5*.5*=0.625 because the patterns are same"
   ]
  },
  {
   "cell_type": "markdown",
   "metadata": {},
   "source": [
    "p(total people) =45\n",
    "p1(women)= 24\n",
    "p2()men=21\n",
    "p(choosing not a man)=24/45"
   ]
  },
  {
   "cell_type": "markdown",
   "metadata": {},
   "source": [
    "p(bernice will travel plane next year)=10%\n",
    "p(plane will crash anytime)=0.005%\n",
    "p(plane will crash anytime next year)=10*0.005=0.0005%"
   ]
  }
 ],
 "metadata": {
  "kernelspec": {
   "display_name": "Python 3",
   "language": "python",
   "name": "python3"
  },
  "language_info": {
   "codemirror_mode": {
    "name": "ipython",
    "version": 3
   },
   "file_extension": ".py",
   "mimetype": "text/x-python",
   "name": "python",
   "nbconvert_exporter": "python",
   "pygments_lexer": "ipython3",
   "version": "3.6.5"
  }
 },
 "nbformat": 4,
 "nbformat_minor": 2
}
